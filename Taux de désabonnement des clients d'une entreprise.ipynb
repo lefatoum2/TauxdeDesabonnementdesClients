{
 "cells": [
  {
   "cell_type": "markdown",
   "metadata": {},
   "source": [
    "## Import des bibliothèques et des données"
   ]
  },
  {
   "cell_type": "code",
   "execution_count": 1,
   "metadata": {},
   "outputs": [],
   "source": [
    "import pandas as pd\n",
    "import matplotlib.pyplot as plt  \n",
    "import numpy as np\n",
    "from sklearn.preprocessing import StandardScaler\n",
    "from sklearn.svm import SVC\n",
    "\n",
    "data1 = pd.read_csv(\"data.csv\")\n"
   ]
  },
  {
   "cell_type": "code",
   "execution_count": 2,
   "metadata": {},
   "outputs": [
    {
     "name": "stdout",
     "output_type": "stream",
     "text": [
      "<class 'pandas.core.frame.DataFrame'>\n",
      "RangeIndex: 10000 entries, 0 to 9999\n",
      "Data columns (total 14 columns):\n",
      " #   Column          Non-Null Count  Dtype  \n",
      "---  ------          --------------  -----  \n",
      " 0   num_ligne       10000 non-null  int64  \n",
      " 1   ID_Client       10000 non-null  int64  \n",
      " 2   Nom             10000 non-null  object \n",
      " 3   Score_Credit    10000 non-null  int64  \n",
      " 4   Pays            10000 non-null  object \n",
      " 5   Sex             10000 non-null  object \n",
      " 6   Age             10000 non-null  int64  \n",
      " 7   Tenure          10000 non-null  int64  \n",
      " 8   Balance         10000 non-null  float64\n",
      " 9   Num_Produit     10000 non-null  int64  \n",
      " 10  il_a_CrCard     10000 non-null  int64  \n",
      " 11  Membre_actif    10000 non-null  int64  \n",
      " 12  Salaire_estime  10000 non-null  float64\n",
      " 13  Exited          10000 non-null  int64  \n",
      "dtypes: float64(2), int64(9), object(3)\n",
      "memory usage: 1.1+ MB\n"
     ]
    }
   ],
   "source": [
    "data1.info()"
   ]
  },
  {
   "cell_type": "markdown",
   "metadata": {},
   "source": [
    "## Détermination de la cible et du jeu de données"
   ]
  },
  {
   "cell_type": "code",
   "execution_count": 3,
   "metadata": {},
   "outputs": [
    {
     "name": "stdout",
     "output_type": "stream",
     "text": [
      "<class 'pandas.core.frame.DataFrame'>\n",
      "RangeIndex: 10000 entries, 0 to 9999\n",
      "Data columns (total 10 columns):\n",
      " #   Column          Non-Null Count  Dtype  \n",
      "---  ------          --------------  -----  \n",
      " 0   Score_Credit    10000 non-null  int64  \n",
      " 1   Pays            10000 non-null  object \n",
      " 2   Sex             10000 non-null  object \n",
      " 3   Age             10000 non-null  int64  \n",
      " 4   Tenure          10000 non-null  int64  \n",
      " 5   Balance         10000 non-null  float64\n",
      " 6   Num_Produit     10000 non-null  int64  \n",
      " 7   il_a_CrCard     10000 non-null  int64  \n",
      " 8   Membre_actif    10000 non-null  int64  \n",
      " 9   Salaire_estime  10000 non-null  float64\n",
      "dtypes: float64(2), int64(6), object(2)\n",
      "memory usage: 781.4+ KB\n"
     ]
    }
   ],
   "source": [
    "X = data1.iloc[:,3:-1]\n",
    "Y = data1[\"Exited\"]\n",
    "X.info()"
   ]
  },
  {
   "cell_type": "markdown",
   "metadata": {},
   "source": [
    "## Encodage des variables "
   ]
  },
  {
   "cell_type": "code",
   "execution_count": 4,
   "metadata": {},
   "outputs": [
    {
     "data": {
      "text/plain": [
       "array([0, 0, 0, ..., 0, 1, 0])"
      ]
     },
     "execution_count": 4,
     "metadata": {},
     "output_type": "execute_result"
    }
   ],
   "source": [
    "# Encodage des variables Sex et Pays\n",
    "from sklearn.preprocessing import LabelEncoder\n",
    "encoder = LabelEncoder()\n",
    "data2_pays = data1[\"Pays\"]\n",
    "data2_pays_encoded = encoder.fit_transform(data2_pays)\n",
    "data2_sexe = data1[\"Sex\"]\n",
    "data2_sexe_encoded = encoder.fit_transform(data2_sexe)\n",
    "data2_sexe_encoded"
   ]
  },
  {
   "cell_type": "code",
   "execution_count": 5,
   "metadata": {},
   "outputs": [],
   "source": [
    "# Reformation du jeu de données\n",
    "X = pd.DataFrame(np.c_[data1['Score_Credit'],data2_pays_encoded, data2_sexe_encoded, data1['Age'], data1['Tenure'], data1['Balance'], data1['Num_Produit'], data1['il_a_CrCard'], data1['Membre_actif'], data1['Salaire_estime']], columns = ['Score_Credit','Pays','Sex','Age', 'Tenure','Balance','Num_Produit','il_a_CrCard', 'Membre_actif', 'Salaire_estime'])"
   ]
  },
  {
   "cell_type": "code",
   "execution_count": 6,
   "metadata": {},
   "outputs": [
    {
     "data": {
      "text/html": [
       "<div>\n",
       "<style scoped>\n",
       "    .dataframe tbody tr th:only-of-type {\n",
       "        vertical-align: middle;\n",
       "    }\n",
       "\n",
       "    .dataframe tbody tr th {\n",
       "        vertical-align: top;\n",
       "    }\n",
       "\n",
       "    .dataframe thead th {\n",
       "        text-align: right;\n",
       "    }\n",
       "</style>\n",
       "<table border=\"1\" class=\"dataframe\">\n",
       "  <thead>\n",
       "    <tr style=\"text-align: right;\">\n",
       "      <th></th>\n",
       "      <th>Score_Credit</th>\n",
       "      <th>Pays</th>\n",
       "      <th>Sex</th>\n",
       "      <th>Age</th>\n",
       "      <th>Tenure</th>\n",
       "      <th>Balance</th>\n",
       "      <th>Num_Produit</th>\n",
       "      <th>il_a_CrCard</th>\n",
       "      <th>Membre_actif</th>\n",
       "      <th>Salaire_estime</th>\n",
       "    </tr>\n",
       "  </thead>\n",
       "  <tbody>\n",
       "    <tr>\n",
       "      <th>0</th>\n",
       "      <td>619.0</td>\n",
       "      <td>0.0</td>\n",
       "      <td>0.0</td>\n",
       "      <td>42.0</td>\n",
       "      <td>2.0</td>\n",
       "      <td>0.00</td>\n",
       "      <td>1.0</td>\n",
       "      <td>1.0</td>\n",
       "      <td>1.0</td>\n",
       "      <td>101348.88</td>\n",
       "    </tr>\n",
       "    <tr>\n",
       "      <th>1</th>\n",
       "      <td>608.0</td>\n",
       "      <td>2.0</td>\n",
       "      <td>0.0</td>\n",
       "      <td>41.0</td>\n",
       "      <td>1.0</td>\n",
       "      <td>83807.86</td>\n",
       "      <td>1.0</td>\n",
       "      <td>0.0</td>\n",
       "      <td>1.0</td>\n",
       "      <td>112542.58</td>\n",
       "    </tr>\n",
       "    <tr>\n",
       "      <th>2</th>\n",
       "      <td>502.0</td>\n",
       "      <td>0.0</td>\n",
       "      <td>0.0</td>\n",
       "      <td>42.0</td>\n",
       "      <td>8.0</td>\n",
       "      <td>159660.80</td>\n",
       "      <td>3.0</td>\n",
       "      <td>1.0</td>\n",
       "      <td>0.0</td>\n",
       "      <td>113931.57</td>\n",
       "    </tr>\n",
       "    <tr>\n",
       "      <th>3</th>\n",
       "      <td>699.0</td>\n",
       "      <td>0.0</td>\n",
       "      <td>0.0</td>\n",
       "      <td>39.0</td>\n",
       "      <td>1.0</td>\n",
       "      <td>0.00</td>\n",
       "      <td>2.0</td>\n",
       "      <td>0.0</td>\n",
       "      <td>0.0</td>\n",
       "      <td>93826.63</td>\n",
       "    </tr>\n",
       "    <tr>\n",
       "      <th>4</th>\n",
       "      <td>850.0</td>\n",
       "      <td>2.0</td>\n",
       "      <td>0.0</td>\n",
       "      <td>43.0</td>\n",
       "      <td>2.0</td>\n",
       "      <td>125510.82</td>\n",
       "      <td>1.0</td>\n",
       "      <td>1.0</td>\n",
       "      <td>1.0</td>\n",
       "      <td>79084.10</td>\n",
       "    </tr>\n",
       "    <tr>\n",
       "      <th>...</th>\n",
       "      <td>...</td>\n",
       "      <td>...</td>\n",
       "      <td>...</td>\n",
       "      <td>...</td>\n",
       "      <td>...</td>\n",
       "      <td>...</td>\n",
       "      <td>...</td>\n",
       "      <td>...</td>\n",
       "      <td>...</td>\n",
       "      <td>...</td>\n",
       "    </tr>\n",
       "    <tr>\n",
       "      <th>9995</th>\n",
       "      <td>771.0</td>\n",
       "      <td>0.0</td>\n",
       "      <td>1.0</td>\n",
       "      <td>39.0</td>\n",
       "      <td>5.0</td>\n",
       "      <td>0.00</td>\n",
       "      <td>2.0</td>\n",
       "      <td>1.0</td>\n",
       "      <td>0.0</td>\n",
       "      <td>96270.64</td>\n",
       "    </tr>\n",
       "    <tr>\n",
       "      <th>9996</th>\n",
       "      <td>516.0</td>\n",
       "      <td>0.0</td>\n",
       "      <td>1.0</td>\n",
       "      <td>35.0</td>\n",
       "      <td>10.0</td>\n",
       "      <td>57369.61</td>\n",
       "      <td>1.0</td>\n",
       "      <td>1.0</td>\n",
       "      <td>1.0</td>\n",
       "      <td>101699.77</td>\n",
       "    </tr>\n",
       "    <tr>\n",
       "      <th>9997</th>\n",
       "      <td>709.0</td>\n",
       "      <td>0.0</td>\n",
       "      <td>0.0</td>\n",
       "      <td>36.0</td>\n",
       "      <td>7.0</td>\n",
       "      <td>0.00</td>\n",
       "      <td>1.0</td>\n",
       "      <td>0.0</td>\n",
       "      <td>1.0</td>\n",
       "      <td>42085.58</td>\n",
       "    </tr>\n",
       "    <tr>\n",
       "      <th>9998</th>\n",
       "      <td>772.0</td>\n",
       "      <td>1.0</td>\n",
       "      <td>1.0</td>\n",
       "      <td>42.0</td>\n",
       "      <td>3.0</td>\n",
       "      <td>75075.31</td>\n",
       "      <td>2.0</td>\n",
       "      <td>1.0</td>\n",
       "      <td>0.0</td>\n",
       "      <td>92888.52</td>\n",
       "    </tr>\n",
       "    <tr>\n",
       "      <th>9999</th>\n",
       "      <td>792.0</td>\n",
       "      <td>0.0</td>\n",
       "      <td>0.0</td>\n",
       "      <td>28.0</td>\n",
       "      <td>4.0</td>\n",
       "      <td>130142.79</td>\n",
       "      <td>1.0</td>\n",
       "      <td>1.0</td>\n",
       "      <td>0.0</td>\n",
       "      <td>38190.78</td>\n",
       "    </tr>\n",
       "  </tbody>\n",
       "</table>\n",
       "<p>10000 rows × 10 columns</p>\n",
       "</div>"
      ],
      "text/plain": [
       "      Score_Credit  Pays  Sex   Age  Tenure    Balance  Num_Produit  \\\n",
       "0            619.0   0.0  0.0  42.0     2.0       0.00          1.0   \n",
       "1            608.0   2.0  0.0  41.0     1.0   83807.86          1.0   \n",
       "2            502.0   0.0  0.0  42.0     8.0  159660.80          3.0   \n",
       "3            699.0   0.0  0.0  39.0     1.0       0.00          2.0   \n",
       "4            850.0   2.0  0.0  43.0     2.0  125510.82          1.0   \n",
       "...            ...   ...  ...   ...     ...        ...          ...   \n",
       "9995         771.0   0.0  1.0  39.0     5.0       0.00          2.0   \n",
       "9996         516.0   0.0  1.0  35.0    10.0   57369.61          1.0   \n",
       "9997         709.0   0.0  0.0  36.0     7.0       0.00          1.0   \n",
       "9998         772.0   1.0  1.0  42.0     3.0   75075.31          2.0   \n",
       "9999         792.0   0.0  0.0  28.0     4.0  130142.79          1.0   \n",
       "\n",
       "      il_a_CrCard  Membre_actif  Salaire_estime  \n",
       "0             1.0           1.0       101348.88  \n",
       "1             0.0           1.0       112542.58  \n",
       "2             1.0           0.0       113931.57  \n",
       "3             0.0           0.0        93826.63  \n",
       "4             1.0           1.0        79084.10  \n",
       "...           ...           ...             ...  \n",
       "9995          1.0           0.0        96270.64  \n",
       "9996          1.0           1.0       101699.77  \n",
       "9997          0.0           1.0        42085.58  \n",
       "9998          1.0           0.0        92888.52  \n",
       "9999          1.0           0.0        38190.78  \n",
       "\n",
       "[10000 rows x 10 columns]"
      ]
     },
     "execution_count": 6,
     "metadata": {},
     "output_type": "execute_result"
    }
   ],
   "source": [
    "# Affichage du jeu de données\n",
    "X"
   ]
  },
  {
   "cell_type": "markdown",
   "metadata": {},
   "source": [
    "## Fractionnement le jeu de données en jeu d'entraînement et jeu de test (1/3 pour le test)"
   ]
  },
  {
   "cell_type": "code",
   "execution_count": 7,
   "metadata": {},
   "outputs": [],
   "source": [
    "from sklearn.model_selection import train_test_split\n",
    "X_train, X_test, Y_train, Y_test = train_test_split(X, Y, test_size=0.33, random_state=42)"
   ]
  },
  {
   "cell_type": "markdown",
   "metadata": {},
   "source": [
    "## Régression Logistique"
   ]
  },
  {
   "cell_type": "code",
   "execution_count": 8,
   "metadata": {},
   "outputs": [],
   "source": [
    "# Entraînement et prédictions\n",
    "from sklearn.linear_model import LogisticRegression\n",
    "regre_logis = LogisticRegression()\n",
    "regre_logis.fit(X_train, Y_train)\n",
    "predicts_logi = regre_logis.predict(X_test)"
   ]
  },
  {
   "cell_type": "markdown",
   "metadata": {},
   "source": [
    "### Evaluation de la Régression Logistique"
   ]
  },
  {
   "cell_type": "code",
   "execution_count": 9,
   "metadata": {},
   "outputs": [
    {
     "data": {
      "text/plain": [
       "0.8015151515151515"
      ]
     },
     "execution_count": 9,
     "metadata": {},
     "output_type": "execute_result"
    }
   ],
   "source": [
    "from sklearn.metrics import accuracy_score\n",
    "accu_score = accuracy_score(Y_test, predicts_logi)\n",
    "accu_score"
   ]
  },
  {
   "cell_type": "markdown",
   "metadata": {},
   "source": [
    "## Arbre de décision "
   ]
  },
  {
   "cell_type": "code",
   "execution_count": 10,
   "metadata": {},
   "outputs": [],
   "source": [
    "# Entraînement et prédictions\n",
    "from sklearn.tree import DecisionTreeClassifier\n",
    "arbre_decision = DecisionTreeClassifier()\n",
    "arbre_decision.fit(X_train, Y_train)\n",
    "predicts_arbre = arbre_decision.predict(X_test)"
   ]
  },
  {
   "cell_type": "markdown",
   "metadata": {},
   "source": [
    "### Evaluation de l'Arbre de décision"
   ]
  },
  {
   "cell_type": "code",
   "execution_count": 11,
   "metadata": {},
   "outputs": [
    {
     "data": {
      "text/plain": [
       "0.7827272727272727"
      ]
     },
     "execution_count": 11,
     "metadata": {},
     "output_type": "execute_result"
    }
   ],
   "source": [
    "from sklearn.metrics import accuracy_score\n",
    "accu_score = accuracy_score(Y_test, predicts_arbre)\n",
    "accu_score"
   ]
  },
  {
   "cell_type": "markdown",
   "metadata": {},
   "source": [
    "## Forêts Aléatoires"
   ]
  },
  {
   "cell_type": "code",
   "execution_count": 12,
   "metadata": {},
   "outputs": [],
   "source": [
    "# Entraînement et prédictions\n",
    "from sklearn.ensemble import RandomForestClassifier\n",
    "foret_aleatoire = RandomForestClassifier()\n",
    "foret_aleatoire.fit(X_train, Y_train)\n",
    "predicts_foret = foret_aleatoire.predict(X_test)"
   ]
  },
  {
   "cell_type": "markdown",
   "metadata": {},
   "source": [
    "### Evaluation de Forêts Aléatoires"
   ]
  },
  {
   "cell_type": "code",
   "execution_count": 13,
   "metadata": {},
   "outputs": [
    {
     "data": {
      "text/plain": [
       "0.8663636363636363"
      ]
     },
     "execution_count": 13,
     "metadata": {},
     "output_type": "execute_result"
    }
   ],
   "source": [
    "from sklearn.metrics import accuracy_score\n",
    "accu_score = accuracy_score(Y_test, predicts_foret)\n",
    "accu_score"
   ]
  },
  {
   "cell_type": "markdown",
   "metadata": {},
   "source": [
    "## K plus proches voisins"
   ]
  },
  {
   "cell_type": "code",
   "execution_count": 14,
   "metadata": {},
   "outputs": [],
   "source": [
    "# Entraînement et prédictions\n",
    "from sklearn.neighbors import KNeighborsClassifier\n",
    "kppv = KNeighborsClassifier()\n",
    "kppv.fit(X_train, Y_train)\n",
    "predicts_kppv = kppv.predict(X_test)\n"
   ]
  },
  {
   "cell_type": "markdown",
   "metadata": {},
   "source": [
    "### Evaluation des K plus proches voisins"
   ]
  },
  {
   "cell_type": "code",
   "execution_count": 15,
   "metadata": {},
   "outputs": [
    {
     "data": {
      "text/plain": [
       "0.769090909090909"
      ]
     },
     "execution_count": 15,
     "metadata": {},
     "output_type": "execute_result"
    }
   ],
   "source": [
    "from sklearn.metrics import accuracy_score\n",
    "accu_score = accuracy_score(Y_test,predicts_kppv)\n",
    "accu_score"
   ]
  },
  {
   "cell_type": "markdown",
   "metadata": {},
   "source": [
    "## Machine vecteurs de supports"
   ]
  },
  {
   "cell_type": "code",
   "execution_count": 16,
   "metadata": {},
   "outputs": [],
   "source": [
    "# Entraînement et prédictions\n",
    "from sklearn.svm import SVC\n",
    "SVM = SVC(gamma ='auto')\n",
    "SVM.fit(X_train, Y_train)\n",
    "predicts_SVM = SVM.predict(X_test)"
   ]
  },
  {
   "cell_type": "markdown",
   "metadata": {},
   "source": [
    "### Evaluation Machine vecteurs de supports"
   ]
  },
  {
   "cell_type": "code",
   "execution_count": 17,
   "metadata": {},
   "outputs": [
    {
     "data": {
      "text/plain": [
       "0.8051515151515152"
      ]
     },
     "execution_count": 17,
     "metadata": {},
     "output_type": "execute_result"
    }
   ],
   "source": [
    "# Accuracy score\n",
    "from sklearn.metrics import accuracy_score\n",
    "accu_score = accuracy_score(Y_test,predicts_SVM)\n",
    "accu_score"
   ]
  },
  {
   "cell_type": "markdown",
   "metadata": {},
   "source": [
    "### Optimisation Machine vecteurs de supports"
   ]
  },
  {
   "cell_type": "code",
   "execution_count": 18,
   "metadata": {},
   "outputs": [],
   "source": [
    "# Création de la variable param_grid\n",
    "param_grid = {'C': (1,10,100,1000)}"
   ]
  },
  {
   "cell_type": "code",
   "execution_count": 19,
   "metadata": {},
   "outputs": [
    {
     "data": {
      "text/plain": [
       "GridSearchCV(cv=10, estimator=SVC(gamma='auto'),\n",
       "             param_grid={'C': (1, 10, 100, 1000)})"
      ]
     },
     "execution_count": 19,
     "metadata": {},
     "output_type": "execute_result"
    }
   ],
   "source": [
    "# Grid Search\n",
    "from sklearn.model_selection import GridSearchCV\n",
    "grid_search = GridSearchCV(SVM, param_grid, cv = 10)\n",
    "grid_search.fit(X_train, Y_train)"
   ]
  },
  {
   "cell_type": "code",
   "execution_count": 20,
   "metadata": {},
   "outputs": [
    {
     "data": {
      "text/plain": [
       "{'C': 1}"
      ]
     },
     "execution_count": 20,
     "metadata": {},
     "output_type": "execute_result"
    }
   ],
   "source": [
    "#  Affichage les meilleurs paramètres de la méthode \n",
    "grid_search.best_params_"
   ]
  },
  {
   "cell_type": "code",
   "execution_count": 21,
   "metadata": {},
   "outputs": [
    {
     "data": {
      "text/plain": [
       "SVC(C=1, gamma='auto')"
      ]
     },
     "execution_count": 21,
     "metadata": {},
     "output_type": "execute_result"
    }
   ],
   "source": [
    "# Entraînement votre modèle avec ces paramètres sur les données d'apprentissage \n",
    "SVM = SVC(C = 1, gamma= 'auto')\n",
    "SVM.fit(X_train, Y_train)"
   ]
  },
  {
   "cell_type": "code",
   "execution_count": 22,
   "metadata": {},
   "outputs": [
    {
     "data": {
      "text/plain": [
       "1.0"
      ]
     },
     "execution_count": 22,
     "metadata": {},
     "output_type": "execute_result"
    }
   ],
   "source": [
    "# Affichache du score de l'entraînement\n",
    "SVM.score(X_train, Y_train)"
   ]
  },
  {
   "cell_type": "code",
   "execution_count": 23,
   "metadata": {},
   "outputs": [
    {
     "data": {
      "text/plain": [
       "0.8051515151515152"
      ]
     },
     "execution_count": 23,
     "metadata": {},
     "output_type": "execute_result"
    }
   ],
   "source": [
    "# Prédictions et précision\n",
    "predicts_SVM = SVM.predict(X_test)\n",
    "accu_score = accuracy_score(Y_test,predicts_SVM)\n",
    "accu_score"
   ]
  },
  {
   "cell_type": "code",
   "execution_count": 24,
   "metadata": {},
   "outputs": [
    {
     "data": {
      "text/plain": [
       "array([[2657,    0],\n",
       "       [ 643,    0]], dtype=int64)"
      ]
     },
     "execution_count": 24,
     "metadata": {},
     "output_type": "execute_result"
    }
   ],
   "source": [
    "# Matrice de confusion sur les prédictions\n",
    "from sklearn.metrics import confusion_matrix\n",
    "confusion_matrix(Y_test,predicts_SVM)"
   ]
  },
  {
   "cell_type": "code",
   "execution_count": 25,
   "metadata": {},
   "outputs": [
    {
     "data": {
      "text/plain": [
       "<sklearn.metrics._plot.confusion_matrix.ConfusionMatrixDisplay at 0x1d10049fc70>"
      ]
     },
     "execution_count": 25,
     "metadata": {},
     "output_type": "execute_result"
    },
    {
     "data": {
      "image/png": "[encoded data removed]",
      "text/plain": [
       "<Figure size 432x288 with 2 Axes>"
      ]
     },
     "metadata": {
      "needs_background": "light"
     },
     "output_type": "display_data"
    }
   ],
   "source": [
    "# Matrice de confusion sur le jeu de test\n",
    "from sklearn.metrics import plot_confusion_matrix\n",
    "plot_confusion_matrix(SVM, X_test, Y_test)"
   ]
  },
  {
   "cell_type": "markdown",
   "metadata": {},
   "source": [
    "# CNN"
   ]
  },
  {
   "cell_type": "code",
   "execution_count": 36,
   "metadata": {},
   "outputs": [],
   "source": [
    "import tensorflow as tf\n",
    "from tensorflow import keras\n",
    "from keras.models import Sequential\n",
    "from keras.layers import Dense\n"
   ]
  },
  {
   "cell_type": "code",
   "execution_count": 34,
   "metadata": {},
   "outputs": [],
   "source": [
    "# Instanciation du modèle\n",
    "model = keras.Sequential([ \n",
    "    keras.layers.Dense(16, activation=tf.nn.relu),\n",
    "    keras.layers.Dense(16, activation=tf.nn.relu),\n",
    "    keras.layers.Dense(1, activation=tf.nn.sigmoid),\n",
    "])\n",
    "\n",
    "# Compilation du modèle\n",
    "model.compile(optimizer='adam',\n",
    "              loss='binary_crossentropy',\n",
    "              metrics=['accuracy'])"
   ]
  },
  {
   "cell_type": "code",
   "execution_count": 35,
   "metadata": {},
   "outputs": [
    {
     "name": "stdout",
     "output_type": "stream",
     "text": [
      "Epoch 1/10\n",
      "6700/6700 [==============================] - 36s 5ms/step - loss: 811.2858 - accuracy: 0.6734\n",
      "Epoch 2/10\n",
      "6700/6700 [==============================] - ETA: 0s - loss: 207.1158 - accuracy: 0.67 - 32s 5ms/step - loss: 207.1110 - accuracy: 0.6712\n",
      "Epoch 3/10\n",
      "6700/6700 [==============================] - 32s 5ms/step - loss: 90.4738 - accuracy: 0.7009\n",
      "Epoch 4/10\n",
      "6700/6700 [==============================] - ETA: 0s - loss: 17.6807 - accuracy: 0.700 - 33s 5ms/step - loss: 17.6789 - accuracy: 0.7006\n",
      "Epoch 5/10\n",
      "6700/6700 [==============================] - 28s 4ms/step - loss: 1.1435 - accuracy: 0.7711\n",
      "Epoch 6/10\n",
      "6700/6700 [==============================] - 31s 5ms/step - loss: 0.5114 - accuracy: 0.7932\n",
      "Epoch 7/10\n",
      "6700/6700 [==============================] - 31s 5ms/step - loss: 0.5177 - accuracy: 0.7886\n",
      "Epoch 8/10\n",
      "6700/6700 [==============================] - 31s 5ms/step - loss: 0.5089 - accuracy: 0.7952 0s - loss: 0.508\n",
      "Epoch 9/10\n",
      "6700/6700 [==============================] - 33s 5ms/step - loss: 0.5239 - accuracy: 0.7843\n",
      "Epoch 10/10\n",
      "6700/6700 [==============================] - 32s 5ms/step - loss: 0.5133 - accuracy: 0.7950\n",
      "104/104 [==============================] - 2s 4ms/step - loss: 0.5017 - accuracy: 0.8052\n",
      "Test accuracy: 0.8051515221595764\n"
     ]
    }
   ],
   "source": [
    "# Entraînement du modèle\n",
    "model.fit(X_train, Y_train, epochs=10, batch_size=1)\n",
    "\n",
    "# Phase de test du modèle \n",
    "test_loss, test_acc = model.evaluate(X_test, Y_test)\n",
    "print('Test accuracy:', test_acc)"
   ]
  },
  {
   "cell_type": "markdown",
   "metadata": {},
   "source": [
    "## Conclusion"
   ]
  },
  {
   "cell_type": "raw",
   "metadata": {},
   "source": [
    "Le modèle Forêts aléatoires donne de bonne précision avec un accuracy_score à 86,6 % sur le taux de désabonnement ou réabonnement des clients. "
   ]
  },
  {
   "cell_type": "raw",
   "metadata": {},
   "source": [
    "Les paramètres sélectionnés ne me permettent pas d'optimiser le modèle Machine Vecteurs de supports qui a déjà un bon accuracy_score de 80,5%."
   ]
  },
  {
   "cell_type": "raw",
   "metadata": {},
   "source": [
    "De plus, les matrices de confusion sur le jeu de test et sur les prédictions sont égales."
   ]
  },
  {
   "cell_type": "raw",
   "metadata": {},
   "source": [
    "Quant au réseau de neurone convolutif, il donne de bons résultats en précision si on l'entraîne suffisamment. J'ai paramétré epochs à 10 mais on peut l'augmenter et avoir un résultat en accuracy supérieur à 80,5 %. Néamoins, il faut éviter le sur-apprentissage(Overfitting)."
   ]
  }
 ],
 "metadata": {
  "kernelspec": {
   "display_name": "Python 3",
   "language": "python",
   "name": "python3"
  },
  "language_info": {
   "codemirror_mode": {
    "name": "ipython",
    "version": 3
   },
   "file_extension": ".py",
   "mimetype": "text/x-python",
   "name": "python",
   "nbconvert_exporter": "python",
   "pygments_lexer": "ipython3",
   "version": "3.8.5"
  }
 },
 "nbformat": 4,
 "nbformat_minor": 4
}
